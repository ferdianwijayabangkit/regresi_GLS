{
 "cells": [
  {
   "cell_type": "markdown",
   "id": "6cc8ab56",
   "metadata": {},
   "source": [
    "## Pendahuluan\n",
    "\n",
    "Dokumen ini menyajikan analisis regresi menggunakan metode **Generalized Least Squares (GLS)**. Pendekatan ini merupakan proses \"tuning\" iteratif untuk membangun model yang dapat mengatasi **dua masalah asumsi sekaligus**: heteroskedastisitas dan autokorelasi.\n",
    "\n",
    "Alih-alih menangani masalah secara terpisah, GLS secara bertahap menyetel parameter untuk varians dan korelasi sisaan, menghasilkan estimasi yang lebih efisien dan inferensi yang lebih valid, serupa dengan pendekatan yang digunakan oleh paket statistik canggih."
   ]
  },
  {
   "cell_type": "markdown",
   "id": "6e92e030",
   "metadata": {},
   "source": [
    "## Memuat Paket dan Data"
   ]
  },
  {
   "cell_type": "markdown",
   "id": "c801a10d",
   "metadata": {},
   "source": [
    "### Memuat Paket Python"
   ]
  },
  {
   "cell_type": "code",
   "execution_count": 24,
   "id": "4832db5b",
   "metadata": {},
   "outputs": [],
   "source": [
    "# Impor paket untuk manipulasi data\n",
    "import pandas as pd\n",
    "import numpy as np\n",
    "\n",
    "# Impor paket untuk pemodelan statistik\n",
    "import statsmodels.api as sm\n",
    "import statsmodels.formula.api as smf\n",
    "from statsmodels.stats.diagnostic import het_breuschpagan\n",
    "from statsmodels.stats.stattools import durbin_watson\n",
    "from statsmodels.stats.outliers_influence import variance_inflation_factor\n",
    "from statsmodels.graphics.tsaplots import plot_acf, plot_pacf\n",
    "\n",
    "# Impor paket untuk uji statistik\n",
    "from scipy import stats\n",
    "from scipy.linalg import toeplitz\n",
    "\n",
    "# Impor paket untuk visualisasi\n",
    "import matplotlib.pyplot as plt\n",
    "import seaborn as sns\n",
    "\n",
    "# Mengatur agar plot ditampilkan di dalam notebook\n",
    "%matplotlib inline\n",
    "sns.set_style('whitegrid')"
   ]
  },
  {
   "cell_type": "markdown",
   "id": "7da1bddb",
   "metadata": {},
   "source": [
    "### Mengimpor Data dari File Excel"
   ]
  },
  {
   "cell_type": "code",
   "execution_count": 25,
   "id": "23b46001",
   "metadata": {},
   "outputs": [],
   "source": [
    "# Ganti path file di bawah ini!\n",
    "file_path = \"C:/Users/user/OneDrive - untirta.ac.id/R Script/Github_Regresi_OLS/data_simulasi_gls.xlsx\"\n",
    "data_FGLS = pd.read_excel(file_path)"
   ]
  },
  {
   "cell_type": "markdown",
   "id": "bde587f0",
   "metadata": {},
   "source": [
    "### Menampilkan Data yang diimpor"
   ]
  },
  {
   "cell_type": "code",
   "execution_count": 26,
   "id": "a380fb16",
   "metadata": {},
   "outputs": [
    {
     "data": {
      "application/vnd.microsoft.datawrangler.viewer.v0+json": {
       "columns": [
        {
         "name": "index",
         "rawType": "int64",
         "type": "integer"
        },
        {
         "name": "y",
         "rawType": "float64",
         "type": "float"
        },
        {
         "name": "x1",
         "rawType": "int64",
         "type": "integer"
        },
        {
         "name": "x2",
         "rawType": "float64",
         "type": "float"
        },
        {
         "name": "x3",
         "rawType": "float64",
         "type": "float"
        },
        {
         "name": "time",
         "rawType": "int64",
         "type": "integer"
        }
       ],
       "ref": "ab69cec2-637e-4b52-9625-410bb52f90a1",
       "rows": [
        [
         "0",
         "44.24526378014506",
         "1",
         "63.95720929838717",
         "53.70892256454682",
         "1"
        ],
        [
         "1",
         "35.03337340526014",
         "2",
         "48.54568594601005",
         "37.71990714496678",
         "2"
        ],
        [
         "2",
         "47.91869102398344",
         "3",
         "50.85295128170401",
         "48.378022897474",
         "3"
        ],
        [
         "3",
         "59.39112590744613",
         "4",
         "49.90593539085239",
         "60.88071523995178",
         "4"
        ],
        [
         "4",
         "45.62188858838133",
         "5",
         "66.81707142386585",
         "53.59201366064308",
         "5"
        ],
        [
         "5",
         "76.92316957103166",
         "6",
         "50.25512952823192",
         "60.67191155286535",
         "6"
        ]
       ],
       "shape": {
        "columns": 5,
        "rows": 6
       }
      },
      "text/html": [
       "<div>\n",
       "<style scoped>\n",
       "    .dataframe tbody tr th:only-of-type {\n",
       "        vertical-align: middle;\n",
       "    }\n",
       "\n",
       "    .dataframe tbody tr th {\n",
       "        vertical-align: top;\n",
       "    }\n",
       "\n",
       "    .dataframe thead th {\n",
       "        text-align: right;\n",
       "    }\n",
       "</style>\n",
       "<table border=\"1\" class=\"dataframe\">\n",
       "  <thead>\n",
       "    <tr style=\"text-align: right;\">\n",
       "      <th></th>\n",
       "      <th>y</th>\n",
       "      <th>x1</th>\n",
       "      <th>x2</th>\n",
       "      <th>x3</th>\n",
       "      <th>time</th>\n",
       "    </tr>\n",
       "  </thead>\n",
       "  <tbody>\n",
       "    <tr>\n",
       "      <th>0</th>\n",
       "      <td>44.245264</td>\n",
       "      <td>1</td>\n",
       "      <td>63.957209</td>\n",
       "      <td>53.708923</td>\n",
       "      <td>1</td>\n",
       "    </tr>\n",
       "    <tr>\n",
       "      <th>1</th>\n",
       "      <td>35.033373</td>\n",
       "      <td>2</td>\n",
       "      <td>48.545686</td>\n",
       "      <td>37.719907</td>\n",
       "      <td>2</td>\n",
       "    </tr>\n",
       "    <tr>\n",
       "      <th>2</th>\n",
       "      <td>47.918691</td>\n",
       "      <td>3</td>\n",
       "      <td>50.852951</td>\n",
       "      <td>48.378023</td>\n",
       "      <td>3</td>\n",
       "    </tr>\n",
       "    <tr>\n",
       "      <th>3</th>\n",
       "      <td>59.391126</td>\n",
       "      <td>4</td>\n",
       "      <td>49.905935</td>\n",
       "      <td>60.880715</td>\n",
       "      <td>4</td>\n",
       "    </tr>\n",
       "    <tr>\n",
       "      <th>4</th>\n",
       "      <td>45.621889</td>\n",
       "      <td>5</td>\n",
       "      <td>66.817071</td>\n",
       "      <td>53.592014</td>\n",
       "      <td>5</td>\n",
       "    </tr>\n",
       "    <tr>\n",
       "      <th>5</th>\n",
       "      <td>76.923170</td>\n",
       "      <td>6</td>\n",
       "      <td>50.255130</td>\n",
       "      <td>60.671912</td>\n",
       "      <td>6</td>\n",
       "    </tr>\n",
       "  </tbody>\n",
       "</table>\n",
       "</div>"
      ],
      "text/plain": [
       "           y  x1         x2         x3  time\n",
       "0  44.245264   1  63.957209  53.708923     1\n",
       "1  35.033373   2  48.545686  37.719907     2\n",
       "2  47.918691   3  50.852951  48.378023     3\n",
       "3  59.391126   4  49.905935  60.880715     4\n",
       "4  45.621889   5  66.817071  53.592014     5\n",
       "5  76.923170   6  50.255130  60.671912     6"
      ]
     },
     "execution_count": 26,
     "metadata": {},
     "output_type": "execute_result"
    }
   ],
   "source": [
    "data_FGLS.head(6)"
   ]
  },
  {
   "cell_type": "markdown",
   "id": "f96a543d",
   "metadata": {},
   "source": [
    "## Membangun Model OLS Awal (Untuk Diagnosis)\n",
    "Kita memulai dengan OLS untuk mengidentifikasi dan mengkonfirmasi adanya pelanggaran asumsi."
   ]
  },
  {
   "cell_type": "code",
   "execution_count": 27,
   "id": "11666b98",
   "metadata": {},
   "outputs": [
    {
     "name": "stdout",
     "output_type": "stream",
     "text": [
      "                            OLS Regression Results                            \n",
      "==============================================================================\n",
      "Dep. Variable:                      y   R-squared:                       0.199\n",
      "Model:                            OLS   Adj. R-squared:                  0.174\n",
      "Method:                 Least Squares   F-statistic:                     7.929\n",
      "Date:                Thu, 04 Sep 2025   Prob (F-statistic):           8.86e-05\n",
      "Time:                        06:31:36   Log-Likelihood:                -609.73\n",
      "No. Observations:                 100   AIC:                             1227.\n",
      "Df Residuals:                      96   BIC:                             1238.\n",
      "Df Model:                           3                                         \n",
      "Covariance Type:            nonrobust                                         \n",
      "==============================================================================\n",
      "                 coef    std err          t      P>|t|      [0.025      0.975]\n",
      "------------------------------------------------------------------------------\n",
      "Intercept      0.8581     70.506      0.012      0.990    -139.095     140.811\n",
      "x1             1.8305      0.382      4.793      0.000       1.072       2.589\n",
      "x2             0.4335      0.638      0.680      0.498      -0.832       1.699\n",
      "x3             1.2326      1.147      1.075      0.285      -1.044       3.510\n",
      "==============================================================================\n",
      "Omnibus:                        3.748   Durbin-Watson:                   0.741\n",
      "Prob(Omnibus):                  0.154   Jarque-Bera (JB):                3.087\n",
      "Skew:                          -0.394   Prob(JB):                        0.214\n",
      "Kurtosis:                       3.348   Cond. No.                         570.\n",
      "==============================================================================\n",
      "\n",
      "Notes:\n",
      "[1] Standard Errors assume that the covariance matrix of the errors is correctly specified.\n"
     ]
    }
   ],
   "source": [
    "# Membangun model OLS awal\n",
    "model_ols_awal = smf.ols('y ~ x1 + x2 + x3', data=data_FGLS).fit()\n",
    "residuals_ols = model_ols_awal.resid\n",
    "exog_ols = model_ols_awal.model.exog\n",
    "\n",
    "# Menampilkan ringkasan OLS awal\n",
    "print(model_ols_awal.summary())"
   ]
  },
  {
   "cell_type": "markdown",
   "id": "e1a763db",
   "metadata": {},
   "source": [
    "## Uji Asumsi Klasik pada Model OLS"
   ]
  },
  {
   "cell_type": "markdown",
   "id": "599b6b54",
   "metadata": {},
   "source": [
    "#### Uji Normalitas (Shapiro-Wilk)"
   ]
  },
  {
   "cell_type": "code",
   "execution_count": 28,
   "id": "737c16c5",
   "metadata": {},
   "outputs": [
    {
     "name": "stdout",
     "output_type": "stream",
     "text": [
      "--- Uji Normalitas (Shapiro-Wilk) ---\n",
      "Statistik Uji: 0.9831, P-value: 0.2304\n"
     ]
    }
   ],
   "source": [
    "shapiro_test_ols = stats.shapiro(residuals_ols)\n",
    "print(f\"--- Uji Normalitas (Shapiro-Wilk) ---\")\n",
    "print(f\"Statistik Uji: {shapiro_test_ols.statistic:.4f}, P-value: {shapiro_test_ols.pvalue:.4f}\")"
   ]
  },
  {
   "cell_type": "markdown",
   "id": "647c66f6",
   "metadata": {},
   "source": [
    "#### Uji Homoskedastisitas (Breusch-Pagan)"
   ]
  },
  {
   "cell_type": "code",
   "execution_count": 29,
   "id": "b4f2e896",
   "metadata": {},
   "outputs": [
    {
     "name": "stdout",
     "output_type": "stream",
     "text": [
      "--- Uji Homoskedastisitas (Breusch-Pagan) ---\n",
      "LM Statistic: 20.1846\n",
      "LM-Test p-value: 0.0002\n",
      "F-Statistic: 8.0925\n",
      "F-Test p-value: 0.0001\n"
     ]
    }
   ],
   "source": [
    "bp_test_ols = het_breuschpagan(residuals_ols, exog_ols)\n",
    "labels = ['LM Statistic', 'LM-Test p-value', 'F-Statistic', 'F-Test p-value']\n",
    "print(\"--- Uji Homoskedastisitas (Breusch-Pagan) ---\")\n",
    "for label, value in zip(labels, bp_test_ols):\n",
    "    print(f\"{label}: {value:.4f}\")"
   ]
  },
  {
   "cell_type": "markdown",
   "id": "5f8ce965",
   "metadata": {},
   "source": [
    "#### Uji Autokorelasi (Durbin-Watson)"
   ]
  },
  {
   "cell_type": "code",
   "execution_count": 30,
   "id": "ea02c400",
   "metadata": {},
   "outputs": [
    {
     "name": "stdout",
     "output_type": "stream",
     "text": [
      "--- Uji Autokorelasi (Durbin-Watson) ---\n",
      "Statistik D-W: 0.7408\n"
     ]
    }
   ],
   "source": [
    "dw_stat = durbin_watson(residuals_ols)\n",
    "print(f\"--- Uji Autokorelasi (Durbin-Watson) ---\")\n",
    "print(f\"Statistik D-W: {dw_stat:.4f}\")"
   ]
  },
  {
   "cell_type": "markdown",
   "id": "e70f4c00",
   "metadata": {},
   "source": [
    "#### Uji Multikolinearitas (VIF)"
   ]
  },
  {
   "cell_type": "code",
   "execution_count": 32,
   "id": "b894007b",
   "metadata": {},
   "outputs": [
    {
     "name": "stdout",
     "output_type": "stream",
     "text": [
      "--- Uji Multikolinearitas (VIF) ---\n",
      "  feature       VIF\n",
      "1      x1  1.007994\n",
      "2      x2  1.002954\n",
      "3      x3  1.010958\n"
     ]
    }
   ],
   "source": [
    "vif_data = pd.DataFrame()\n",
    "vif_data[\"feature\"] = model_ols_awal.model.exog_names\n",
    "vif_data[\"VIF\"] = [variance_inflation_factor(exog_ols, i) for i in range(len(model_ols_awal.model.exog_names))]\n",
    "print(\"--- Uji Multikolinearitas (VIF) ---\")\n",
    "print(vif_data[vif_data['feature'] != 'Intercept'])"
   ]
  },
  {
   "cell_type": "markdown",
   "id": "4fd9ed76",
   "metadata": {},
   "source": [
    "### Diagnosis Visual Autokorelasi"
   ]
  },
  {
   "cell_type": "code",
   "execution_count": 42,
   "id": "79f72b08",
   "metadata": {},
   "outputs": [
    {
     "data": {
      "image/png": "[encoded data removed]",
      "text/plain": [
       "<Figure size 1800x500 with 3 Axes>"
      ]
     },
     "metadata": {},
     "output_type": "display_data"
    }
   ],
   "source": [
    "# Plot sisaan terhadap indeks/urutan\n",
    "fig, axes = plt.subplots(1, 3, figsize=(18, 5))\n",
    "fig.suptitle('Diagnosis Visual Autokorelasi pada Sisaan OLS', fontsize=16)\n",
    "\n",
    "# Plot Sisaan vs. Urutan\n",
    "axes[0].plot(residuals_ols.index, residuals_ols, marker='o', linestyle='-')\n",
    "axes[0].axhline(0, color='red', linestyle='--')\n",
    "axes[0].set_title('Sisaan OLS terhadap Urutan Observasi')\n",
    "axes[0].set_xlabel('Indeks Observasi')\n",
    "axes[0].set_ylabel('Sisaan')\n",
    "\n",
    "# Plot ACF\n",
    "plot_acf(residuals_ols, ax=axes[1], title='ACF dari Sisaan OLS')\n",
    "\n",
    "# Plot PACF\n",
    "plot_pacf(residuals_ols, ax=axes[2], title='PACF dari Sisaan OLS')\n",
    "\n",
    "plt.tight_layout(rect=[0, 0, 1, 0.96])\n",
    "plt.show()"
   ]
  },
  {
   "cell_type": "markdown",
   "id": "5d05c1ec",
   "metadata": {},
   "source": [
    "*Interpretasi Diagnosis:* Hasil di atas mengkonfirmasi adanya heteroskedastisitas (p-value rendah) dan autokorelasi dengan struktur AR(1) (PACF terpotong setelah lag 1). Ini membenarkan perlunya proses tuning dengan FGLS."
   ]
  },
  {
   "cell_type": "markdown",
   "id": "c9a5ed47",
   "metadata": {},
   "source": [
    "## Pemodelan GLS dengan Struktur Korelasi AR(1)\n",
    "\n",
    "Berdasarkan diagnosis, kita akan menggunakan model `GLSAR` (Generalized Least Squares with Autoregressive error) untuk memperbaiki model dengan menentukan orde AR sebesar 1."
   ]
  },
  {
   "cell_type": "code",
   "execution_count": 50,
   "id": "aeda93b7",
   "metadata": {},
   "outputs": [
    {
     "name": "stdout",
     "output_type": "stream",
     "text": [
      "Memulai proses tuning FGLS iteratif...\n",
      "Iterasi 1: rho = 0.664960\n",
      "Iterasi 2: rho = 0.672466\n",
      "Iterasi 3: rho = 0.661146\n",
      "Iterasi 4: rho = 0.667662\n",
      "Iterasi 5: rho = 0.660499\n",
      "Iterasi 6: rho = 0.669348\n",
      "Iterasi 7: rho = 0.664721\n",
      "Iterasi 8: rho = 0.665796\n",
      "Iterasi 9: rho = 0.665900\n",
      "Iterasi 10: rho = 0.665839\n",
      "\n",
      "Batas maksimum iterasi tercapai.\n"
     ]
    },
    {
     "name": "stderr",
     "output_type": "stream",
     "text": [
      "C:\\Users\\user\\AppData\\Local\\Temp\\ipykernel_8864\\2431867351.py:32: FutureWarning: Series.__getitem__ treating keys as positions is deprecated. In a future version, integer keys will always be treated as labels (consistent with DataFrame behavior). To access a value by position, use `ser.iloc[pos]`\n",
      "  rho_new = sm.OLS(resid_t, resid_tm1).fit().params[0]\n"
     ]
    }
   ],
   "source": [
    "# Pisahkan variabel dependen (y) dan independen (X)\n",
    "y = data_FGLS['y']\n",
    "X = data_FGLS[['x1', 'x2', 'x3']]\n",
    "X = sm.add_constant(X)\n",
    "\n",
    "# Model OLS awal\n",
    "model_ols_awal = sm.OLS(y, X).fit()\n",
    "residuals = model_ols_awal.resid\n",
    "\n",
    "# Inisialisasi parameter\n",
    "max_iter = 10\n",
    "tolerance = 1e-6\n",
    "rho_old = 0\n",
    "nobs = len(y)\n",
    "\n",
    "print(\"Memulai proses tuning FGLS iteratif...\")\n",
    "\n",
    "for i in range(max_iter):\n",
    "    # --- Langkah A: Estimasi Struktur Varian (Heteroskedastisitas) ---\n",
    "    # Modelkan varians menggunakan sisaan dari iterasi sebelumnya\n",
    "    log_resid_sq = np.log(residuals**2)\n",
    "    model_aux_var = sm.OLS(log_resid_sq, X).fit()\n",
    "    weights = 1 / np.exp(model_aux_var.fittedvalues)\n",
    "\n",
    "    # --- Langkah B: Estimasi Struktur Korelasi (Autokorelasi) ---\n",
    "    # Jalankan WLS dengan bobot saat ini untuk mendapatkan sisaan yang lebih baik\n",
    "    model_wls_iter = sm.WLS(y, X, weights=weights).fit()\n",
    "    residuals_wls = model_wls_iter.resid\n",
    "    # Gunakan sisaan WLS yang sudah bersih untuk mendapatkan estimasi rho yang akurat\n",
    "    resid_t = residuals_wls[1:].reset_index(drop=True)\n",
    "    resid_tm1 = residuals_wls[:-1].reset_index(drop=True)\n",
    "    rho_new = sm.OLS(resid_t, resid_tm1).fit().params[0]\n",
    "    \n",
    "    print(f\"Iterasi {i+1}: rho = {rho_new:.6f}\")\n",
    "\n",
    "    # --- Langkah C: Cek Konvergensi ---\n",
    "    if np.abs(rho_new - rho_old) < tolerance:\n",
    "        print(f\"\\nKonvergensi tercapai pada iterasi {i+1}.\")\n",
    "        break\n",
    "    \n",
    "    rho_old = rho_new\n",
    "    \n",
    "    # --- Langkah D: Dapatkan sisaan baru dari model GLS sementara untuk iterasi berikutnya ---\n",
    "    rho_matrix_iter = toeplitz(rho_new ** np.arange(nobs))\n",
    "    variance_matrix_iter = np.diag(1 / weights)\n",
    "    sqrt_var_iter = np.sqrt(variance_matrix_iter)\n",
    "    sigma_iter = sqrt_var_iter @ rho_matrix_iter @ sqrt_var_iter\n",
    "    \n",
    "    model_gls_iter = sm.GLS(y, X, sigma=sigma_iter).fit()\n",
    "    residuals = model_gls_iter.resid\n",
    "else:\n",
    "    print(\"\\nBatas maksimum iterasi tercapai.\")\n",
    "\n",
    "# Simpan parameter final yang sudah dituning\n",
    "rho_final = rho_new\n",
    "weights_final = weights\n",
    "\n"
   ]
  },
  {
   "cell_type": "markdown",
   "id": "672d3fc3",
   "metadata": {},
   "source": [
    "## Pemodelan GLS Final dengan Parameter yang Sudah Dituning\n",
    "\n",
    "Dengan `weights` dan `rho` yang sudah konvergen, kita membangun model GLS final. Kita akan secara manual membangun matriks kovarians sisaan (`sigma`) yang menggabungkan kedua struktur error ini, lalu memberikannya ke model `sm.GLS`."
   ]
  },
  {
   "cell_type": "code",
   "execution_count": 51,
   "id": "230ee779",
   "metadata": {},
   "outputs": [
    {
     "name": "stdout",
     "output_type": "stream",
     "text": [
      "--- Ringkasan Model GLS Final (Setelah Tuning FGLS Iteratif) ---\n",
      "Rho Final yang Digunakan: 0.665839\n",
      "\n",
      "                            GLS Regression Results                            \n",
      "==============================================================================\n",
      "Dep. Variable:                      y   R-squared:                       0.325\n",
      "Model:                            GLS   Adj. R-squared:                  0.304\n",
      "Method:                 Least Squares   F-statistic:                     15.43\n",
      "Date:                Thu, 04 Sep 2025   Prob (F-statistic):           2.88e-08\n",
      "Time:                        08:11:28   Log-Likelihood:                -554.25\n",
      "No. Observations:                 100   AIC:                             1117.\n",
      "Df Residuals:                      96   BIC:                             1127.\n",
      "Df Model:                           3                                         \n",
      "Covariance Type:            nonrobust                                         \n",
      "==============================================================================\n",
      "                 coef    std err          t      P>|t|      [0.025      0.975]\n",
      "------------------------------------------------------------------------------\n",
      "const         -6.8254     34.861     -0.196      0.845     -76.025      62.374\n",
      "x1             2.9091      0.603      4.823      0.000       1.712       4.106\n",
      "x2            -0.5209      0.233     -2.238      0.028      -0.983      -0.059\n",
      "x3             1.6943      0.427      3.964      0.000       0.846       2.543\n",
      "==============================================================================\n",
      "Omnibus:                       11.997   Durbin-Watson:                   1.699\n",
      "Prob(Omnibus):                  0.002   Jarque-Bera (JB):               12.862\n",
      "Skew:                          -0.735   Prob(JB):                      0.00161\n",
      "Kurtosis:                       3.963   Cond. No.                         272.\n",
      "==============================================================================\n",
      "\n",
      "Notes:\n",
      "[1] Standard Errors assume that the covariance matrix of the errors is correctly specified.\n"
     ]
    }
   ],
   "source": [
    "# 1. Buat matriks korelasi AR(1) dari rho_final\n",
    "rho_matrix = toeplitz(rho_final ** np.arange(nobs))\n",
    "\n",
    "# 2. Buat matriks varians dari bobot final\n",
    "variance_matrix = np.diag(1 / weights_final)\n",
    "\n",
    "# 3. Gabungkan keduanya untuk membuat matriks kovarians sisaan (sigma)\n",
    "sqrt_var = np.sqrt(variance_matrix)\n",
    "sigma = sqrt_var @ rho_matrix @ sqrt_var\n",
    "\n",
    "# 4. Bangun model GLS final dengan sigma yang sudah didefinisikan\n",
    "model_gls_final = sm.GLS(y, X, sigma=sigma).fit()\n",
    "\n",
    "# 5. Tampilkan ringkasan\n",
    "print(f\"--- Ringkasan Model GLS Final (Setelah Tuning FGLS Iteratif) ---\")\n",
    "print(f\"Rho Final yang Digunakan: {rho_final:.6f}\\n\")\n",
    "print(model_gls_final.summary())"
   ]
  },
  {
   "cell_type": "markdown",
   "id": "8fafbf0a",
   "metadata": {},
   "source": [
    "## Evaluasi Kebaikan Model (Goodness-of-Fit)"
   ]
  },
  {
   "cell_type": "code",
   "execution_count": 54,
   "id": "46a8da64",
   "metadata": {},
   "outputs": [
    {
     "name": "stdout",
     "output_type": "stream",
     "text": [
      "Metrik Kebaikan Model (Goodness-of-Fit) untuk GLS Final\n"
     ]
    },
    {
     "data": {
      "application/vnd.microsoft.datawrangler.viewer.v0+json": {
       "columns": [
        {
         "name": "index",
         "rawType": "int64",
         "type": "integer"
        },
        {
         "name": "Metrik",
         "rawType": "object",
         "type": "string"
        },
        {
         "name": "Nilai",
         "rawType": "float64",
         "type": "float"
        }
       ],
       "ref": "d057542f-cf53-4db8-8899-b36053b87334",
       "rows": [
        [
         "0",
         "Log-Likelihood",
         "-554.2545228506882"
        ],
        [
         "1",
         "AIC",
         "1116.5090457013764"
        ],
        [
         "2",
         "BIC",
         "1126.9297264453287"
        ]
       ],
       "shape": {
        "columns": 2,
        "rows": 3
       }
      },
      "text/html": [
       "<div>\n",
       "<style scoped>\n",
       "    .dataframe tbody tr th:only-of-type {\n",
       "        vertical-align: middle;\n",
       "    }\n",
       "\n",
       "    .dataframe tbody tr th {\n",
       "        vertical-align: top;\n",
       "    }\n",
       "\n",
       "    .dataframe thead th {\n",
       "        text-align: right;\n",
       "    }\n",
       "</style>\n",
       "<table border=\"1\" class=\"dataframe\">\n",
       "  <thead>\n",
       "    <tr style=\"text-align: right;\">\n",
       "      <th></th>\n",
       "      <th>Metrik</th>\n",
       "      <th>Nilai</th>\n",
       "    </tr>\n",
       "  </thead>\n",
       "  <tbody>\n",
       "    <tr>\n",
       "      <th>0</th>\n",
       "      <td>Log-Likelihood</td>\n",
       "      <td>-554.254523</td>\n",
       "    </tr>\n",
       "    <tr>\n",
       "      <th>1</th>\n",
       "      <td>AIC</td>\n",
       "      <td>1116.509046</td>\n",
       "    </tr>\n",
       "    <tr>\n",
       "      <th>2</th>\n",
       "      <td>BIC</td>\n",
       "      <td>1126.929726</td>\n",
       "    </tr>\n",
       "  </tbody>\n",
       "</table>\n",
       "</div>"
      ],
      "text/plain": [
       "           Metrik        Nilai\n",
       "0  Log-Likelihood  -554.254523\n",
       "1             AIC  1116.509046\n",
       "2             BIC  1126.929726"
      ]
     },
     "execution_count": 54,
     "metadata": {},
     "output_type": "execute_result"
    }
   ],
   "source": [
    "# Ekstrak metrik evaluasi\n",
    "loglik_gls = model_gls_final.llf\n",
    "aic_gls = model_gls_final.aic\n",
    "bic_gls = model_gls_final.bic\n",
    "\n",
    "# Buat DataFrame untuk menampilkan hasil\n",
    "evaluasi_data_gls = {\n",
    "    'Metrik': ['Log-Likelihood', 'AIC', 'BIC'],\n",
    "    'Nilai': [loglik_gls, aic_gls, bic_gls]\n",
    "}\n",
    "evaluasi_df_gls = pd.DataFrame(evaluasi_data_gls)\n",
    "\n",
    "print(\"Metrik Kebaikan Model (Goodness-of-Fit) untuk GLS Final\")\n",
    "evaluasi_df_gls"
   ]
  },
  {
   "cell_type": "code",
   "execution_count": null,
   "id": "e87e3446",
   "metadata": {},
   "outputs": [],
   "source": []
  }
 ],
 "metadata": {
  "language_info": {
   "name": "python"
  }
 },
 "nbformat": 4,
 "nbformat_minor": 5
}
